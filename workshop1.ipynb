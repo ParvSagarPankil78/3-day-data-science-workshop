{
  "nbformat": 4,
  "nbformat_minor": 0,
  "metadata": {
    "colab": {
      "provenance": []
    },
    "kernelspec": {
      "name": "python3",
      "display_name": "Python 3"
    },
    "language_info": {
      "name": "python"
    }
  },
  "cells": [
    {
      "cell_type": "markdown",
      "source": [
        "day 1"
      ],
      "metadata": {
        "id": "AdQMazVJ14mi"
      }
    },
    {
      "cell_type": "code",
      "execution_count": null,
      "metadata": {
        "colab": {
          "base_uri": "https://localhost:8080/"
        },
        "id": "5JphoFwdp81X",
        "outputId": "c583d1c2-79fe-458a-b2aa-e94f3dd73445"
      },
      "outputs": [
        {
          "output_type": "stream",
          "name": "stdout",
          "text": [
            "Mounted at /content/drive\n"
          ]
        }
      ],
      "source": [
        "from google.colab import drive\n",
        "drive.mount('/content/drive')"
      ]
    },
    {
      "cell_type": "markdown",
      "source": [
        "![ff.jpg](data:image/jpeg;base64,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)"
      ],
      "metadata": {
        "id": "vIuNnaKMrybw"
      }
    },
    {
      "cell_type": "code",
      "source": [
        "A='coders ready'\n",
        "b=4\n",
        "c=3.5\n",
        "d=2 +8j\n",
        "e=True\n",
        "print(A)"
      ],
      "metadata": {
        "colab": {
          "base_uri": "https://localhost:8080/"
        },
        "id": "aEjEvw6_uEdQ",
        "outputId": "37ede430-5217-46c1-afbb-571911076c1c"
      },
      "execution_count": null,
      "outputs": [
        {
          "output_type": "stream",
          "name": "stdout",
          "text": [
            "coders ready\n"
          ]
        }
      ]
    },
    {
      "cell_type": "code",
      "source": [
        "a='hello world'\n",
        "print(a)"
      ],
      "metadata": {
        "colab": {
          "base_uri": "https://localhost:8080/"
        },
        "id": "0W_ikCBouzf-",
        "outputId": "c85afc77-d60a-48b6-cb03-5594b51c6a03"
      },
      "execution_count": null,
      "outputs": [
        {
          "output_type": "stream",
          "name": "stdout",
          "text": [
            "hello world\n"
          ]
        }
      ]
    },
    {
      "cell_type": "code",
      "source": [
        "type(c)"
      ],
      "metadata": {
        "colab": {
          "base_uri": "https://localhost:8080/"
        },
        "id": "kmhuAg6xu2-1",
        "outputId": "a4dc9250-295f-4922-d394-b20ee1f4087e"
      },
      "execution_count": null,
      "outputs": [
        {
          "output_type": "execute_result",
          "data": {
            "text/plain": [
              "float"
            ]
          },
          "metadata": {},
          "execution_count": 22
        }
      ]
    },
    {
      "cell_type": "code",
      "source": [
        "type(d)"
      ],
      "metadata": {
        "colab": {
          "base_uri": "https://localhost:8080/"
        },
        "id": "6IX3IvFUu9BF",
        "outputId": "6d9bf7f4-ba0f-4a0e-8a63-3188be511092"
      },
      "execution_count": null,
      "outputs": [
        {
          "output_type": "execute_result",
          "data": {
            "text/plain": [
              "complex"
            ]
          },
          "metadata": {},
          "execution_count": 23
        }
      ]
    },
    {
      "cell_type": "code",
      "source": [
        "type(e)"
      ],
      "metadata": {
        "colab": {
          "base_uri": "https://localhost:8080/"
        },
        "id": "ZmWjF_1qvAR3",
        "outputId": "3ccd288a-49de-4b26-8c7a-d993cc018ad6"
      },
      "execution_count": null,
      "outputs": [
        {
          "output_type": "execute_result",
          "data": {
            "text/plain": [
              "bool"
            ]
          },
          "metadata": {},
          "execution_count": 24
        }
      ]
    },
    {
      "cell_type": "code",
      "source": [
        "id(c)"
      ],
      "metadata": {
        "colab": {
          "base_uri": "https://localhost:8080/"
        },
        "id": "515lHd-dvC8y",
        "outputId": "a891a1b1-6460-4dd0-fea1-149efcbead59"
      },
      "execution_count": null,
      "outputs": [
        {
          "output_type": "execute_result",
          "data": {
            "text/plain": [
              "140326072841072"
            ]
          },
          "metadata": {},
          "execution_count": 25
        }
      ]
    },
    {
      "cell_type": "code",
      "source": [
        "#comment"
      ],
      "metadata": {
        "id": "W2k3hLNXvHc1"
      },
      "execution_count": null,
      "outputs": []
    },
    {
      "cell_type": "code",
      "source": [
        "#c\n",
        "o mment"
      ],
      "metadata": {
        "colab": {
          "base_uri": "https://localhost:8080/",
          "height": 130
        },
        "id": "IxvgYLiIvQwm",
        "outputId": "e5d2ce56-b2ec-43f3-9a70-29d1d7a19255"
      },
      "execution_count": null,
      "outputs": [
        {
          "output_type": "error",
          "ename": "SyntaxError",
          "evalue": "ignored",
          "traceback": [
            "\u001b[0;36m  File \u001b[0;32m\"<ipython-input-28-5e68e6e831d4>\"\u001b[0;36m, line \u001b[0;32m2\u001b[0m\n\u001b[0;31m    o mment\u001b[0m\n\u001b[0m      ^\u001b[0m\n\u001b[0;31mSyntaxError\u001b[0m\u001b[0;31m:\u001b[0m invalid syntax\n"
          ]
        }
      ]
    },
    {
      "cell_type": "code",
      "source": [
        "'''c\n",
        "    o\n",
        "    mment'''\n",
        "print(a)"
      ],
      "metadata": {
        "colab": {
          "base_uri": "https://localhost:8080/"
        },
        "id": "wO1PuVQ_vUsy",
        "outputId": "bd76a7c0-c228-4f1f-8e3f-ee658c2252e0"
      },
      "execution_count": null,
      "outputs": [
        {
          "output_type": "stream",
          "name": "stdout",
          "text": [
            "hello world\n"
          ]
        }
      ]
    },
    {
      "cell_type": "code",
      "source": [
        " d='coders ready'"
      ],
      "metadata": {
        "id": "dhV5cTdlvrZT"
      },
      "execution_count": null,
      "outputs": []
    },
    {
      "cell_type": "code",
      "source": [
        "type(d)"
      ],
      "metadata": {
        "colab": {
          "base_uri": "https://localhost:8080/"
        },
        "id": "7ys_Iry5v1LK",
        "outputId": "a1236201-4d49-4ca3-9b8e-c848d5d1ccd0"
      },
      "execution_count": null,
      "outputs": [
        {
          "output_type": "execute_result",
          "data": {
            "text/plain": [
              "str"
            ]
          },
          "metadata": {},
          "execution_count": 34
        }
      ]
    },
    {
      "cell_type": "code",
      "source": [
        " len(d)"
      ],
      "metadata": {
        "colab": {
          "base_uri": "https://localhost:8080/"
        },
        "id": "dl19WWIFv28K",
        "outputId": "225f08ec-a503-4db1-91ec-ca635d256b09"
      },
      "execution_count": null,
      "outputs": [
        {
          "output_type": "execute_result",
          "data": {
            "text/plain": [
              "12"
            ]
          },
          "metadata": {},
          "execution_count": 35
        }
      ]
    },
    {
      "cell_type": "code",
      "source": [
        "d[2:4]"
      ],
      "metadata": {
        "colab": {
          "base_uri": "https://localhost:8080/",
          "height": 35
        },
        "id": "ZPnpjUlawAyr",
        "outputId": "470450f0-4e67-473a-d4e0-4c1bd74e283e"
      },
      "execution_count": null,
      "outputs": [
        {
          "output_type": "execute_result",
          "data": {
            "text/plain": [
              "'de'"
            ],
            "application/vnd.google.colaboratory.intrinsic+json": {
              "type": "string"
            }
          },
          "metadata": {},
          "execution_count": 36
        }
      ]
    },
    {
      "cell_type": "code",
      "source": [
        "d[-8:-2]"
      ],
      "metadata": {
        "colab": {
          "base_uri": "https://localhost:8080/",
          "height": 35
        },
        "id": "4YaQAHT4wHCN",
        "outputId": "dc667705-5800-4db3-f6e6-3d6f396be808"
      },
      "execution_count": null,
      "outputs": [
        {
          "output_type": "execute_result",
          "data": {
            "text/plain": [
              "'rs rea'"
            ],
            "application/vnd.google.colaboratory.intrinsic+json": {
              "type": "string"
            }
          },
          "metadata": {},
          "execution_count": 37
        }
      ]
    },
    {
      "cell_type": "code",
      "source": [
        "d[1:9]"
      ],
      "metadata": {
        "colab": {
          "base_uri": "https://localhost:8080/",
          "height": 35
        },
        "id": "pz8-R3VSwK3E",
        "outputId": "2aefe48d-5f42-404a-eb8c-1c7cadca21ed"
      },
      "execution_count": null,
      "outputs": [
        {
          "output_type": "execute_result",
          "data": {
            "text/plain": [
              "'oders re'"
            ],
            "application/vnd.google.colaboratory.intrinsic+json": {
              "type": "string"
            }
          },
          "metadata": {},
          "execution_count": 38
        }
      ]
    },
    {
      "cell_type": "code",
      "source": [
        "d[9]"
      ],
      "metadata": {
        "colab": {
          "base_uri": "https://localhost:8080/",
          "height": 35
        },
        "id": "1uYHWLAzwN9b",
        "outputId": "f0968eca-60b9-4bc5-d6d8-805b1de05e84"
      },
      "execution_count": null,
      "outputs": [
        {
          "output_type": "execute_result",
          "data": {
            "text/plain": [
              "'a'"
            ],
            "application/vnd.google.colaboratory.intrinsic+json": {
              "type": "string"
            }
          },
          "metadata": {},
          "execution_count": 39
        }
      ]
    },
    {
      "cell_type": "code",
      "source": [
        "d[0:0]"
      ],
      "metadata": {
        "colab": {
          "base_uri": "https://localhost:8080/",
          "height": 35
        },
        "id": "3dGisnRfwRm5",
        "outputId": "14af04c6-f603-4a33-8a74-7c1460f84b87"
      },
      "execution_count": null,
      "outputs": [
        {
          "output_type": "execute_result",
          "data": {
            "text/plain": [
              "''"
            ],
            "application/vnd.google.colaboratory.intrinsic+json": {
              "type": "string"
            }
          },
          "metadata": {},
          "execution_count": 40
        }
      ]
    },
    {
      "cell_type": "code",
      "source": [
        "list12=[1,2,3,4,5,6,7,8,9]\n",
        "list12"
      ],
      "metadata": {
        "colab": {
          "base_uri": "https://localhost:8080/"
        },
        "id": "ysLoUhccwTlq",
        "outputId": "6545d715-8b89-448e-d60e-8d1c3d500e85"
      },
      "execution_count": null,
      "outputs": [
        {
          "output_type": "execute_result",
          "data": {
            "text/plain": [
              "[1, 2, 3, 4, 5, 6, 7, 8, 9]"
            ]
          },
          "metadata": {},
          "execution_count": 41
        }
      ]
    },
    {
      "cell_type": "code",
      "source": [
        "tuple1=(1,2,3,4,5,6,7,8,9,[1,2,3],True)\n",
        "tuple1"
      ],
      "metadata": {
        "colab": {
          "base_uri": "https://localhost:8080/"
        },
        "id": "6emU7e_vwizg",
        "outputId": "d845439d-97dc-48fd-bf9d-4cd69f2a57fe"
      },
      "execution_count": null,
      "outputs": [
        {
          "output_type": "execute_result",
          "data": {
            "text/plain": [
              "(1, 2, 3, 4, 5, 6, 7, 8, 9, [1, 2, 3], True)"
            ]
          },
          "metadata": {},
          "execution_count": 48
        }
      ]
    },
    {
      "cell_type": "code",
      "source": [
        "list12[5]"
      ],
      "metadata": {
        "colab": {
          "base_uri": "https://localhost:8080/"
        },
        "id": "CfKtjBUawqOY",
        "outputId": "30468289-e185-4872-892f-98a9b6780c49"
      },
      "execution_count": null,
      "outputs": [
        {
          "output_type": "execute_result",
          "data": {
            "text/plain": [
              "6"
            ]
          },
          "metadata": {},
          "execution_count": 44
        }
      ]
    },
    {
      "cell_type": "code",
      "source": [
        "tuple1[5]"
      ],
      "metadata": {
        "colab": {
          "base_uri": "https://localhost:8080/"
        },
        "id": "Wq4IRhFTwwhy",
        "outputId": "6f142b98-525f-4f47-af9e-848661485db0"
      },
      "execution_count": null,
      "outputs": [
        {
          "output_type": "execute_result",
          "data": {
            "text/plain": [
              "6"
            ]
          },
          "metadata": {},
          "execution_count": 49
        }
      ]
    },
    {
      "cell_type": "code",
      "source": [
        "list12[4]=12\n",
        "list12"
      ],
      "metadata": {
        "colab": {
          "base_uri": "https://localhost:8080/"
        },
        "id": "BRe7dVZXwy3Y",
        "outputId": "2c0a49a1-8593-49f0-a6ee-721ab5ed9153"
      },
      "execution_count": null,
      "outputs": [
        {
          "output_type": "execute_result",
          "data": {
            "text/plain": [
              "[1, 2, 3, 4, 12, 6, 7, 8, 9]"
            ]
          },
          "metadata": {},
          "execution_count": 46
        }
      ]
    },
    {
      "cell_type": "code",
      "source": [
        "tuple1[4]=12\n",
        "tuple1"
      ],
      "metadata": {
        "colab": {
          "base_uri": "https://localhost:8080/",
          "height": 183
        },
        "id": "jEvoHV9Iw-8n",
        "outputId": "70cb47b6-4e68-4eda-a5f7-d2e02e0efc1f"
      },
      "execution_count": null,
      "outputs": [
        {
          "output_type": "error",
          "ename": "TypeError",
          "evalue": "ignored",
          "traceback": [
            "\u001b[0;31m---------------------------------------------------------------------------\u001b[0m",
            "\u001b[0;31mTypeError\u001b[0m                                 Traceback (most recent call last)",
            "\u001b[0;32m<ipython-input-50-e027513f9bef>\u001b[0m in \u001b[0;36m<cell line: 1>\u001b[0;34m()\u001b[0m\n\u001b[0;32m----> 1\u001b[0;31m \u001b[0mtuple1\u001b[0m\u001b[0;34m[\u001b[0m\u001b[0;36m4\u001b[0m\u001b[0;34m]\u001b[0m\u001b[0;34m=\u001b[0m\u001b[0;36m12\u001b[0m\u001b[0;34m\u001b[0m\u001b[0;34m\u001b[0m\u001b[0m\n\u001b[0m\u001b[1;32m      2\u001b[0m \u001b[0mtuple1\u001b[0m\u001b[0;34m\u001b[0m\u001b[0;34m\u001b[0m\u001b[0m\n",
            "\u001b[0;31mTypeError\u001b[0m: 'tuple' object does not support item assignment"
          ]
        }
      ]
    },
    {
      "cell_type": "code",
      "source": [
        "set={'sneha','shruti','nishant','anmol'}\n",
        "set"
      ],
      "metadata": {
        "colab": {
          "base_uri": "https://localhost:8080/"
        },
        "id": "DOGHDPvGxGLZ",
        "outputId": "bcd8184e-d735-4d57-fc46-96c8aefc2031"
      },
      "execution_count": null,
      "outputs": [
        {
          "output_type": "execute_result",
          "data": {
            "text/plain": [
              "{'anmol', 'nishant', 'shruti', 'sneha'}"
            ]
          },
          "metadata": {},
          "execution_count": 51
        }
      ]
    },
    {
      "cell_type": "code",
      "source": [
        "dic1={'girl':'sneha','boy':'nishant'}\n",
        "dic1"
      ],
      "metadata": {
        "colab": {
          "base_uri": "https://localhost:8080/"
        },
        "id": "uI5KoH19xkcI",
        "outputId": "d41ee072-aa2d-4353-b8a3-276aaac6831e"
      },
      "execution_count": null,
      "outputs": [
        {
          "output_type": "execute_result",
          "data": {
            "text/plain": [
              "{'girl': 'sneha', 'boy': 'nishant'}"
            ]
          },
          "metadata": {},
          "execution_count": 52
        }
      ]
    },
    {
      "cell_type": "code",
      "source": [
        "dic1.keys()"
      ],
      "metadata": {
        "colab": {
          "base_uri": "https://localhost:8080/"
        },
        "id": "7OBhShRCxzp1",
        "outputId": "fb825615-5d29-40f0-a4b1-bc78c805df3c"
      },
      "execution_count": null,
      "outputs": [
        {
          "output_type": "execute_result",
          "data": {
            "text/plain": [
              "dict_keys(['girl', 'boy'])"
            ]
          },
          "metadata": {},
          "execution_count": 53
        }
      ]
    },
    {
      "cell_type": "code",
      "source": [
        "dic1.values()"
      ],
      "metadata": {
        "colab": {
          "base_uri": "https://localhost:8080/"
        },
        "id": "napD_YtEx5OE",
        "outputId": "2e96d2cb-6705-48a6-ee8a-888ae12db599"
      },
      "execution_count": null,
      "outputs": [
        {
          "output_type": "execute_result",
          "data": {
            "text/plain": [
              "dict_values(['sneha', 'nishant'])"
            ]
          },
          "metadata": {},
          "execution_count": 54
        }
      ]
    },
    {
      "cell_type": "code",
      "source": [
        "dic1['boy']"
      ],
      "metadata": {
        "colab": {
          "base_uri": "https://localhost:8080/",
          "height": 35
        },
        "id": "MU1wrzOrx8Aj",
        "outputId": "adc56ec4-fbc1-4b62-9544-43305974921f"
      },
      "execution_count": null,
      "outputs": [
        {
          "output_type": "execute_result",
          "data": {
            "text/plain": [
              "'nishant'"
            ],
            "application/vnd.google.colaboratory.intrinsic+json": {
              "type": "string"
            }
          },
          "metadata": {},
          "execution_count": 55
        }
      ]
    },
    {
      "cell_type": "code",
      "source": [
        "set2={'sneha','nishant','anmol','sneha'}\n",
        "set2"
      ],
      "metadata": {
        "colab": {
          "base_uri": "https://localhost:8080/"
        },
        "id": "uNDUX7TlyGyT",
        "outputId": "8f955046-8879-4402-fe11-58084317f2a9"
      },
      "execution_count": null,
      "outputs": [
        {
          "output_type": "execute_result",
          "data": {
            "text/plain": [
              "{'anmol', 'nishant', 'sneha'}"
            ]
          },
          "metadata": {},
          "execution_count": 57
        }
      ]
    },
    {
      "cell_type": "code",
      "source": [
        "df=list(set)\n",
        "df"
      ],
      "metadata": {
        "colab": {
          "base_uri": "https://localhost:8080/"
        },
        "id": "j4ZXfaGNyZ5_",
        "outputId": "ab39c333-202a-470b-c339-fbf64affb610"
      },
      "execution_count": null,
      "outputs": [
        {
          "output_type": "execute_result",
          "data": {
            "text/plain": [
              "['nishant', 'sneha', 'anmol', 'shruti']"
            ]
          },
          "metadata": {},
          "execution_count": 59
        }
      ]
    },
    {
      "cell_type": "code",
      "source": [
        "type(df)"
      ],
      "metadata": {
        "colab": {
          "base_uri": "https://localhost:8080/"
        },
        "id": "Ysec831kyivh",
        "outputId": "5f99c63e-45c2-42aa-ae96-115b41cd7eeb"
      },
      "execution_count": null,
      "outputs": [
        {
          "output_type": "execute_result",
          "data": {
            "text/plain": [
              "list"
            ]
          },
          "metadata": {},
          "execution_count": 60
        }
      ]
    },
    {
      "cell_type": "code",
      "source": [
        "for i in range(len(list12)):\n",
        "  print(i**2)"
      ],
      "metadata": {
        "colab": {
          "base_uri": "https://localhost:8080/"
        },
        "id": "FQwsRpeayl3r",
        "outputId": "00048e8b-8949-4114-f865-c8778d4fc42a"
      },
      "execution_count": null,
      "outputs": [
        {
          "output_type": "stream",
          "name": "stdout",
          "text": [
            "0\n",
            "1\n",
            "4\n",
            "9\n",
            "16\n",
            "25\n",
            "36\n",
            "49\n",
            "64\n"
          ]
        }
      ]
    },
    {
      "cell_type": "code",
      "source": [
        "for shruti in df:\n",
        "  print(shruti)"
      ],
      "metadata": {
        "colab": {
          "base_uri": "https://localhost:8080/"
        },
        "id": "voXfoRQ1zBvi",
        "outputId": "3321e2f2-0202-46de-9463-26a64e869a72"
      },
      "execution_count": null,
      "outputs": [
        {
          "output_type": "stream",
          "name": "stdout",
          "text": [
            "nishant\n",
            "sneha\n",
            "anmol\n",
            "shruti\n"
          ]
        }
      ]
    },
    {
      "cell_type": "code",
      "source": [
        "sq=[]\n",
        "for i in range(10):\n",
        "  a=i**2\n",
        "  sq.append(a)\n",
        "  print(sq)\n",
        "print('')  \n",
        "print('')\n",
        "print(sq)"
      ],
      "metadata": {
        "colab": {
          "base_uri": "https://localhost:8080/"
        },
        "id": "4ORnyYlezRy4",
        "outputId": "9ee418a5-156c-41b4-aa1c-fe2f4224493a"
      },
      "execution_count": null,
      "outputs": [
        {
          "output_type": "stream",
          "name": "stdout",
          "text": [
            "[0]\n",
            "[0, 1]\n",
            "[0, 1, 4]\n",
            "[0, 1, 4, 9]\n",
            "[0, 1, 4, 9, 16]\n",
            "[0, 1, 4, 9, 16, 25]\n",
            "[0, 1, 4, 9, 16, 25, 36]\n",
            "[0, 1, 4, 9, 16, 25, 36, 49]\n",
            "[0, 1, 4, 9, 16, 25, 36, 49, 64]\n",
            "[0, 1, 4, 9, 16, 25, 36, 49, 64, 81]\n",
            "\n",
            "\n",
            "[0, 1, 4, 9, 16, 25, 36, 49, 64, 81]\n"
          ]
        }
      ]
    },
    {
      "cell_type": "code",
      "source": [
        "for i in range(-3,4):\n",
        "  print(i**2)"
      ],
      "metadata": {
        "colab": {
          "base_uri": "https://localhost:8080/"
        },
        "id": "M-PDLd2GzwGO",
        "outputId": "afd5086d-4b80-4db7-a883-af370eba8bf0"
      },
      "execution_count": null,
      "outputs": [
        {
          "output_type": "stream",
          "name": "stdout",
          "text": [
            "9\n",
            "4\n",
            "1\n",
            "0\n",
            "1\n",
            "4\n",
            "9\n"
          ]
        }
      ]
    },
    {
      "cell_type": "code",
      "source": [
        "n=[]\n",
        "sq1=[]\n",
        "cb=[]\n",
        "\n",
        "for i in range(20):\n",
        "  a=i\n",
        "  b=i**2\n",
        "  c=i**3\n",
        "  n.append(a)\n",
        "  sq1.append(b)\n",
        "  cb.append(c)\n",
        "print(n)\n",
        "print(sq1)\n",
        "print(cb)\n"
      ],
      "metadata": {
        "colab": {
          "base_uri": "https://localhost:8080/"
        },
        "id": "kEttBIMSz6Dy",
        "outputId": "18284ed9-8912-4f6a-94cf-e42e6f04dc28"
      },
      "execution_count": null,
      "outputs": [
        {
          "output_type": "stream",
          "name": "stdout",
          "text": [
            "[0, 1, 2, 3, 4, 5, 6, 7, 8, 9, 10, 11, 12, 13, 14, 15, 16, 17, 18, 19]\n",
            "[0, 1, 4, 9, 16, 25, 36, 49, 64, 81, 100, 121, 144, 169, 196, 225, 256, 289, 324, 361]\n",
            "[0, 1, 8, 27, 64, 125, 216, 343, 512, 729, 1000, 1331, 1728, 2197, 2744, 3375, 4096, 4913, 5832, 6859]\n"
          ]
        }
      ]
    },
    {
      "cell_type": "code",
      "source": [
        "cb"
      ],
      "metadata": {
        "colab": {
          "base_uri": "https://localhost:8080/"
        },
        "id": "qxA7uMN-0ydN",
        "outputId": "5c5a4f5e-4175-44a9-9148-ccfecd3ca88a"
      },
      "execution_count": null,
      "outputs": [
        {
          "output_type": "execute_result",
          "data": {
            "text/plain": [
              "[0,\n",
              " 1,\n",
              " 8,\n",
              " 27,\n",
              " 64,\n",
              " 125,\n",
              " 216,\n",
              " 343,\n",
              " 512,\n",
              " 729,\n",
              " 1000,\n",
              " 1331,\n",
              " 1728,\n",
              " 2197,\n",
              " 2744,\n",
              " 3375,\n",
              " 4096,\n",
              " 4913,\n",
              " 5832,\n",
              " 6859]"
            ]
          },
          "metadata": {},
          "execution_count": 73
        }
      ]
    },
    {
      "cell_type": "code",
      "source": [
        "import matplotlib.pyplot as plt\n",
        "plt.plot(n,sq1,'.-',n,cb,'*-')\n",
        "plt.show()"
      ],
      "metadata": {
        "colab": {
          "base_uri": "https://localhost:8080/",
          "height": 430
        },
        "id": "6-3C_zwF01Hr",
        "outputId": "2a86a3ca-6ad8-4c8a-c625-e8a56b2d3941"
      },
      "execution_count": null,
      "outputs": [
        {
          "output_type": "display_data",
          "data": {
            "text/plain": [
              "<Figure size 640x480 with 1 Axes>"
            ],
            "image/png": "[encoded data removed]"
          },
          "metadata": {}
        }
      ]
    }
  ]
}